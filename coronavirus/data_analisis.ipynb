{
 "cells": [
  {
   "cell_type": "markdown",
   "metadata": {},
   "source": [
    "# Coronavirus\n",
    "\n",
    "El coronavirus tomó al mundo entero por sorpresa, cambiando la rutina diaria de todos y todas. Los habitantes de las ciudades ya no pasaban su tiempo libre fuera, yendo a cafés y centros comerciales; sino que más gente se quedaba en casa, leyendo libros. Eso atrajo la atención de las startups (empresas emergentes) que se apresuraron a desarrollar nuevas aplicaciones para los amantes de los libros.\n",
    "\n",
    "Te han dado una base de datos de uno de los servicios que compiten en este mercado. Contiene datos sobre libros, editoriales, autores y calificaciones de clientes y reseñas de libros. Esta información se utilizará para generar una propuesta de valor para un nuevo producto."
   ]
  },
  {
   "cell_type": "markdown",
   "metadata": {},
   "source": [
    "# Descripción de los datos\n",
    "\n",
    "**`books`** (Datos sobre libros):\n",
    "- `book_id`: identificación del libro\n",
    "- `author_id`: identificación del autor o autora\n",
    "- `title`: título\n",
    "- `num_pages`: número de páginas\n",
    "- `publication_date`: fecha de la publicación\n",
    "- `publisher_id`: identificación de la editorial\n",
    "\n",
    "**`authors`** (Datos sobre autores):\n",
    "- `author_id`: identificación del autor o autora\n",
    "- `author`: el autor o la autora\n",
    "\n",
    "**`publishers`** (Datos sobre editoriales):\n",
    "- `publisher_id`: identificación de la editorial\n",
    "- `publisher`: la editorial\n",
    "\n",
    "**`ratings`** (Calificaciones de usuarios):\n",
    "- `rating_id`: identificación de la calificación\n",
    "- `book_id`: identificación del libro\n",
    "- `username`: el nombre del usuario que revisó el libro\n",
    "- `rating`: calificación\n",
    "\n",
    "**`reviews`** (Reseñas de los y las clientes):\n",
    "- `review_id`: identificación de la reseña\n",
    "- `book_id`: identificación del libro\n",
    "- `username`: el nombre del usuario que revisó el libro\n",
    "- `text`: el texto de la reseña"
   ]
  },
  {
   "cell_type": "markdown",
   "metadata": {},
   "source": [
    "## Describe los objetivos del estudio."
   ]
  },
  {
   "cell_type": "markdown",
   "metadata": {},
   "source": [
    "Generar una propuesta de valor para un nuevo producto para el sector literario, para el desarrollo de una aplicación para los amantes de los libros."
   ]
  },
  {
   "cell_type": "code",
   "execution_count": 1,
   "metadata": {},
   "outputs": [],
   "source": [
    "# importar librerías\n",
    "import pandas as pd\n",
    "from sqlalchemy import create_engine\n",
    "import psycopg2\n",
    "\n",
    "# conectar al servidor\n",
    "db_config = {'user': 'practicum_student',         # nombre de usuario\n",
    "             'pwd': 's65BlTKV3faNIGhmvJVzOqhs', # contraseña\n",
    "             'host': 'rc1b-wcoijxj3yxfsf3fs.mdb.yandexcloud.net',\n",
    "             'port': 6432,              # puerto de conexión\n",
    "             'db': 'data-analyst-final-project-db'}          # nombre de la base de datos\n",
    "\n",
    "conn = psycopg2.connect(\n",
    "            dbname=db_config[\"db\"],\n",
    "            host=db_config[\"host\"],\n",
    "            port=db_config[\"port\"],\n",
    "            user=db_config[\"user\"],\n",
    "            password=db_config[\"pwd\"],\n",
    "        )"
   ]
  },
  {
   "cell_type": "markdown",
   "metadata": {},
   "source": [
    "## Estudia las tablas (imprime las primeras filas)."
   ]
  },
  {
   "cell_type": "code",
   "execution_count": 2,
   "metadata": {},
   "outputs": [
    {
     "data": {
      "text/html": [
       "<div>\n",
       "<style scoped>\n",
       "    .dataframe tbody tr th:only-of-type {\n",
       "        vertical-align: middle;\n",
       "    }\n",
       "\n",
       "    .dataframe tbody tr th {\n",
       "        vertical-align: top;\n",
       "    }\n",
       "\n",
       "    .dataframe thead th {\n",
       "        text-align: right;\n",
       "    }\n",
       "</style>\n",
       "<table border=\"1\" class=\"dataframe\">\n",
       "  <thead>\n",
       "    <tr style=\"text-align: right;\">\n",
       "      <th></th>\n",
       "      <th>book_id</th>\n",
       "      <th>author_id</th>\n",
       "      <th>title</th>\n",
       "      <th>num_pages</th>\n",
       "      <th>publication_date</th>\n",
       "      <th>publisher_id</th>\n",
       "    </tr>\n",
       "  </thead>\n",
       "  <tbody>\n",
       "    <tr>\n",
       "      <th>0</th>\n",
       "      <td>1</td>\n",
       "      <td>546</td>\n",
       "      <td>'Salem's Lot</td>\n",
       "      <td>594</td>\n",
       "      <td>2005-11-01</td>\n",
       "      <td>93</td>\n",
       "    </tr>\n",
       "    <tr>\n",
       "      <th>1</th>\n",
       "      <td>2</td>\n",
       "      <td>465</td>\n",
       "      <td>1 000 Places to See Before You Die</td>\n",
       "      <td>992</td>\n",
       "      <td>2003-05-22</td>\n",
       "      <td>336</td>\n",
       "    </tr>\n",
       "    <tr>\n",
       "      <th>2</th>\n",
       "      <td>3</td>\n",
       "      <td>407</td>\n",
       "      <td>13 Little Blue Envelopes (Little Blue Envelope...</td>\n",
       "      <td>322</td>\n",
       "      <td>2010-12-21</td>\n",
       "      <td>135</td>\n",
       "    </tr>\n",
       "    <tr>\n",
       "      <th>3</th>\n",
       "      <td>4</td>\n",
       "      <td>82</td>\n",
       "      <td>1491: New Revelations of the Americas Before C...</td>\n",
       "      <td>541</td>\n",
       "      <td>2006-10-10</td>\n",
       "      <td>309</td>\n",
       "    </tr>\n",
       "    <tr>\n",
       "      <th>4</th>\n",
       "      <td>5</td>\n",
       "      <td>125</td>\n",
       "      <td>1776</td>\n",
       "      <td>386</td>\n",
       "      <td>2006-07-04</td>\n",
       "      <td>268</td>\n",
       "    </tr>\n",
       "  </tbody>\n",
       "</table>\n",
       "</div>"
      ],
      "text/plain": [
       "   book_id  author_id                                              title  \\\n",
       "0        1        546                                       'Salem's Lot   \n",
       "1        2        465                 1 000 Places to See Before You Die   \n",
       "2        3        407  13 Little Blue Envelopes (Little Blue Envelope...   \n",
       "3        4         82  1491: New Revelations of the Americas Before C...   \n",
       "4        5        125                                               1776   \n",
       "\n",
       "   num_pages publication_date  publisher_id  \n",
       "0        594       2005-11-01            93  \n",
       "1        992       2003-05-22           336  \n",
       "2        322       2010-12-21           135  \n",
       "3        541       2006-10-10           309  \n",
       "4        386       2006-07-04           268  "
      ]
     },
     "metadata": {},
     "output_type": "display_data"
    }
   ],
   "source": [
    "# Imprimir muestra del dataSet libros\n",
    "df_books= pd.read_sql_query('SELECT * FROM books LIMIT 5;', conn)\n",
    "display(df_books)"
   ]
  },
  {
   "cell_type": "code",
   "execution_count": 3,
   "metadata": {},
   "outputs": [
    {
     "data": {
      "text/html": [
       "<div>\n",
       "<style scoped>\n",
       "    .dataframe tbody tr th:only-of-type {\n",
       "        vertical-align: middle;\n",
       "    }\n",
       "\n",
       "    .dataframe tbody tr th {\n",
       "        vertical-align: top;\n",
       "    }\n",
       "\n",
       "    .dataframe thead th {\n",
       "        text-align: right;\n",
       "    }\n",
       "</style>\n",
       "<table border=\"1\" class=\"dataframe\">\n",
       "  <thead>\n",
       "    <tr style=\"text-align: right;\">\n",
       "      <th></th>\n",
       "      <th>author_id</th>\n",
       "      <th>author</th>\n",
       "    </tr>\n",
       "  </thead>\n",
       "  <tbody>\n",
       "    <tr>\n",
       "      <th>0</th>\n",
       "      <td>1</td>\n",
       "      <td>A.S. Byatt</td>\n",
       "    </tr>\n",
       "    <tr>\n",
       "      <th>1</th>\n",
       "      <td>2</td>\n",
       "      <td>Aesop/Laura Harris/Laura Gibbs</td>\n",
       "    </tr>\n",
       "    <tr>\n",
       "      <th>2</th>\n",
       "      <td>3</td>\n",
       "      <td>Agatha Christie</td>\n",
       "    </tr>\n",
       "    <tr>\n",
       "      <th>3</th>\n",
       "      <td>4</td>\n",
       "      <td>Alan Brennert</td>\n",
       "    </tr>\n",
       "    <tr>\n",
       "      <th>4</th>\n",
       "      <td>5</td>\n",
       "      <td>Alan Moore/David   Lloyd</td>\n",
       "    </tr>\n",
       "  </tbody>\n",
       "</table>\n",
       "</div>"
      ],
      "text/plain": [
       "   author_id                          author\n",
       "0          1                      A.S. Byatt\n",
       "1          2  Aesop/Laura Harris/Laura Gibbs\n",
       "2          3                 Agatha Christie\n",
       "3          4                   Alan Brennert\n",
       "4          5        Alan Moore/David   Lloyd"
      ]
     },
     "metadata": {},
     "output_type": "display_data"
    }
   ],
   "source": [
    "# Imprimir muestra del dataSet autores\n",
    "df_authors = pd.read_sql_query('SELECT * FROM authors LIMIT 5;', conn)\n",
    "display(df_authors)"
   ]
  },
  {
   "cell_type": "code",
   "execution_count": 4,
   "metadata": {},
   "outputs": [
    {
     "data": {
      "text/html": [
       "<div>\n",
       "<style scoped>\n",
       "    .dataframe tbody tr th:only-of-type {\n",
       "        vertical-align: middle;\n",
       "    }\n",
       "\n",
       "    .dataframe tbody tr th {\n",
       "        vertical-align: top;\n",
       "    }\n",
       "\n",
       "    .dataframe thead th {\n",
       "        text-align: right;\n",
       "    }\n",
       "</style>\n",
       "<table border=\"1\" class=\"dataframe\">\n",
       "  <thead>\n",
       "    <tr style=\"text-align: right;\">\n",
       "      <th></th>\n",
       "      <th>publisher_id</th>\n",
       "      <th>publisher</th>\n",
       "    </tr>\n",
       "  </thead>\n",
       "  <tbody>\n",
       "    <tr>\n",
       "      <th>0</th>\n",
       "      <td>1</td>\n",
       "      <td>Ace</td>\n",
       "    </tr>\n",
       "    <tr>\n",
       "      <th>1</th>\n",
       "      <td>2</td>\n",
       "      <td>Ace Book</td>\n",
       "    </tr>\n",
       "    <tr>\n",
       "      <th>2</th>\n",
       "      <td>3</td>\n",
       "      <td>Ace Books</td>\n",
       "    </tr>\n",
       "    <tr>\n",
       "      <th>3</th>\n",
       "      <td>4</td>\n",
       "      <td>Ace Hardcover</td>\n",
       "    </tr>\n",
       "    <tr>\n",
       "      <th>4</th>\n",
       "      <td>5</td>\n",
       "      <td>Addison Wesley Publishing Company</td>\n",
       "    </tr>\n",
       "  </tbody>\n",
       "</table>\n",
       "</div>"
      ],
      "text/plain": [
       "   publisher_id                          publisher\n",
       "0             1                                Ace\n",
       "1             2                           Ace Book\n",
       "2             3                          Ace Books\n",
       "3             4                      Ace Hardcover\n",
       "4             5  Addison Wesley Publishing Company"
      ]
     },
     "metadata": {},
     "output_type": "display_data"
    }
   ],
   "source": [
    "# Imprimir muestra del dataSet editoriales\n",
    "df_publishers = pd.read_sql_query('SELECT * FROM publishers LIMIT 5;', conn)\n",
    "display(df_publishers)"
   ]
  },
  {
   "cell_type": "code",
   "execution_count": 5,
   "metadata": {},
   "outputs": [
    {
     "data": {
      "text/html": [
       "<div>\n",
       "<style scoped>\n",
       "    .dataframe tbody tr th:only-of-type {\n",
       "        vertical-align: middle;\n",
       "    }\n",
       "\n",
       "    .dataframe tbody tr th {\n",
       "        vertical-align: top;\n",
       "    }\n",
       "\n",
       "    .dataframe thead th {\n",
       "        text-align: right;\n",
       "    }\n",
       "</style>\n",
       "<table border=\"1\" class=\"dataframe\">\n",
       "  <thead>\n",
       "    <tr style=\"text-align: right;\">\n",
       "      <th></th>\n",
       "      <th>rating_id</th>\n",
       "      <th>book_id</th>\n",
       "      <th>username</th>\n",
       "      <th>rating</th>\n",
       "    </tr>\n",
       "  </thead>\n",
       "  <tbody>\n",
       "    <tr>\n",
       "      <th>0</th>\n",
       "      <td>1</td>\n",
       "      <td>1</td>\n",
       "      <td>ryanfranco</td>\n",
       "      <td>4</td>\n",
       "    </tr>\n",
       "    <tr>\n",
       "      <th>1</th>\n",
       "      <td>2</td>\n",
       "      <td>1</td>\n",
       "      <td>grantpatricia</td>\n",
       "      <td>2</td>\n",
       "    </tr>\n",
       "    <tr>\n",
       "      <th>2</th>\n",
       "      <td>3</td>\n",
       "      <td>1</td>\n",
       "      <td>brandtandrea</td>\n",
       "      <td>5</td>\n",
       "    </tr>\n",
       "    <tr>\n",
       "      <th>3</th>\n",
       "      <td>4</td>\n",
       "      <td>2</td>\n",
       "      <td>lorichen</td>\n",
       "      <td>3</td>\n",
       "    </tr>\n",
       "    <tr>\n",
       "      <th>4</th>\n",
       "      <td>5</td>\n",
       "      <td>2</td>\n",
       "      <td>mariokeller</td>\n",
       "      <td>2</td>\n",
       "    </tr>\n",
       "  </tbody>\n",
       "</table>\n",
       "</div>"
      ],
      "text/plain": [
       "   rating_id  book_id       username  rating\n",
       "0          1        1     ryanfranco       4\n",
       "1          2        1  grantpatricia       2\n",
       "2          3        1   brandtandrea       5\n",
       "3          4        2       lorichen       3\n",
       "4          5        2    mariokeller       2"
      ]
     },
     "metadata": {},
     "output_type": "display_data"
    }
   ],
   "source": [
    "# Imprimir muestra del dataSet calificaciones\n",
    "df_ratings = pd.read_sql_query('SELECT * FROM ratings LIMIT 5;', conn)\n",
    "display(df_ratings)"
   ]
  },
  {
   "cell_type": "code",
   "execution_count": 6,
   "metadata": {},
   "outputs": [
    {
     "data": {
      "text/html": [
       "<div>\n",
       "<style scoped>\n",
       "    .dataframe tbody tr th:only-of-type {\n",
       "        vertical-align: middle;\n",
       "    }\n",
       "\n",
       "    .dataframe tbody tr th {\n",
       "        vertical-align: top;\n",
       "    }\n",
       "\n",
       "    .dataframe thead th {\n",
       "        text-align: right;\n",
       "    }\n",
       "</style>\n",
       "<table border=\"1\" class=\"dataframe\">\n",
       "  <thead>\n",
       "    <tr style=\"text-align: right;\">\n",
       "      <th></th>\n",
       "      <th>review_id</th>\n",
       "      <th>book_id</th>\n",
       "      <th>username</th>\n",
       "      <th>text</th>\n",
       "    </tr>\n",
       "  </thead>\n",
       "  <tbody>\n",
       "    <tr>\n",
       "      <th>0</th>\n",
       "      <td>1</td>\n",
       "      <td>1</td>\n",
       "      <td>brandtandrea</td>\n",
       "      <td>Mention society tell send professor analysis. ...</td>\n",
       "    </tr>\n",
       "    <tr>\n",
       "      <th>1</th>\n",
       "      <td>2</td>\n",
       "      <td>1</td>\n",
       "      <td>ryanfranco</td>\n",
       "      <td>Foot glass pretty audience hit themselves. Amo...</td>\n",
       "    </tr>\n",
       "    <tr>\n",
       "      <th>2</th>\n",
       "      <td>3</td>\n",
       "      <td>2</td>\n",
       "      <td>lorichen</td>\n",
       "      <td>Listen treat keep worry. Miss husband tax but ...</td>\n",
       "    </tr>\n",
       "    <tr>\n",
       "      <th>3</th>\n",
       "      <td>4</td>\n",
       "      <td>3</td>\n",
       "      <td>johnsonamanda</td>\n",
       "      <td>Finally month interesting blue could nature cu...</td>\n",
       "    </tr>\n",
       "    <tr>\n",
       "      <th>4</th>\n",
       "      <td>5</td>\n",
       "      <td>3</td>\n",
       "      <td>scotttamara</td>\n",
       "      <td>Nation purpose heavy give wait song will. List...</td>\n",
       "    </tr>\n",
       "  </tbody>\n",
       "</table>\n",
       "</div>"
      ],
      "text/plain": [
       "   review_id  book_id       username  \\\n",
       "0          1        1   brandtandrea   \n",
       "1          2        1     ryanfranco   \n",
       "2          3        2       lorichen   \n",
       "3          4        3  johnsonamanda   \n",
       "4          5        3    scotttamara   \n",
       "\n",
       "                                                text  \n",
       "0  Mention society tell send professor analysis. ...  \n",
       "1  Foot glass pretty audience hit themselves. Amo...  \n",
       "2  Listen treat keep worry. Miss husband tax but ...  \n",
       "3  Finally month interesting blue could nature cu...  \n",
       "4  Nation purpose heavy give wait song will. List...  "
      ]
     },
     "metadata": {},
     "output_type": "display_data"
    }
   ],
   "source": [
    "# Imprimir muestra del dataSet de reseñas\n",
    "df_reviews = pd.read_sql_query('SELECT * FROM reviews LIMIT 5;', conn)\n",
    "display(df_reviews)"
   ]
  },
  {
   "cell_type": "markdown",
   "metadata": {},
   "source": [
    "## Consulta SQL"
   ]
  },
  {
   "cell_type": "markdown",
   "metadata": {},
   "source": [
    "### Número de libros publicados después del 1 de enero de 2000."
   ]
  },
  {
   "cell_type": "code",
   "execution_count": 7,
   "metadata": {},
   "outputs": [
    {
     "data": {
      "text/html": [
       "<div>\n",
       "<style scoped>\n",
       "    .dataframe tbody tr th:only-of-type {\n",
       "        vertical-align: middle;\n",
       "    }\n",
       "\n",
       "    .dataframe tbody tr th {\n",
       "        vertical-align: top;\n",
       "    }\n",
       "\n",
       "    .dataframe thead th {\n",
       "        text-align: right;\n",
       "    }\n",
       "</style>\n",
       "<table border=\"1\" class=\"dataframe\">\n",
       "  <thead>\n",
       "    <tr style=\"text-align: right;\">\n",
       "      <th></th>\n",
       "      <th>publicaded_books</th>\n",
       "    </tr>\n",
       "  </thead>\n",
       "  <tbody>\n",
       "    <tr>\n",
       "      <th>0</th>\n",
       "      <td>819</td>\n",
       "    </tr>\n",
       "  </tbody>\n",
       "</table>\n",
       "</div>"
      ],
      "text/plain": [
       "   publicaded_books\n",
       "0               819"
      ]
     },
     "execution_count": 7,
     "metadata": {},
     "output_type": "execute_result"
    }
   ],
   "source": [
    "# Filtrar por fecha y contabilizar los titulos filtrados\n",
    "pd.read_sql_query(\"\"\"SELECT COUNT (title) AS publicaded_books FROM books \n",
    "                                                              WHERE (publication_date >'2000-01-01');\"\"\", conn)"
   ]
  },
  {
   "cell_type": "code",
   "execution_count": 8,
   "metadata": {},
   "outputs": [
    {
     "data": {
      "text/html": [
       "<div>\n",
       "<style scoped>\n",
       "    .dataframe tbody tr th:only-of-type {\n",
       "        vertical-align: middle;\n",
       "    }\n",
       "\n",
       "    .dataframe tbody tr th {\n",
       "        vertical-align: top;\n",
       "    }\n",
       "\n",
       "    .dataframe thead th {\n",
       "        text-align: right;\n",
       "    }\n",
       "</style>\n",
       "<table border=\"1\" class=\"dataframe\">\n",
       "  <thead>\n",
       "    <tr style=\"text-align: right;\">\n",
       "      <th></th>\n",
       "      <th>title</th>\n",
       "      <th>avg_rating</th>\n",
       "      <th>n_review</th>\n",
       "    </tr>\n",
       "  </thead>\n",
       "  <tbody>\n",
       "    <tr>\n",
       "      <th>0</th>\n",
       "      <td>Twilight (Twilight  #1)</td>\n",
       "      <td>3.662500</td>\n",
       "      <td>1120</td>\n",
       "    </tr>\n",
       "    <tr>\n",
       "      <th>1</th>\n",
       "      <td>The Hobbit  or There and Back Again</td>\n",
       "      <td>4.125000</td>\n",
       "      <td>528</td>\n",
       "    </tr>\n",
       "    <tr>\n",
       "      <th>2</th>\n",
       "      <td>The Catcher in the Rye</td>\n",
       "      <td>3.825581</td>\n",
       "      <td>516</td>\n",
       "    </tr>\n",
       "    <tr>\n",
       "      <th>3</th>\n",
       "      <td>Harry Potter and the Prisoner of Azkaban (Harr...</td>\n",
       "      <td>4.414634</td>\n",
       "      <td>492</td>\n",
       "    </tr>\n",
       "    <tr>\n",
       "      <th>4</th>\n",
       "      <td>Harry Potter and the Chamber of Secrets (Harry...</td>\n",
       "      <td>4.287500</td>\n",
       "      <td>480</td>\n",
       "    </tr>\n",
       "    <tr>\n",
       "      <th>...</th>\n",
       "      <td>...</td>\n",
       "      <td>...</td>\n",
       "      <td>...</td>\n",
       "    </tr>\n",
       "    <tr>\n",
       "      <th>989</th>\n",
       "      <td>Debt of Honor (Jack Ryan  #7)</td>\n",
       "      <td>3.000000</td>\n",
       "      <td>2</td>\n",
       "    </tr>\n",
       "    <tr>\n",
       "      <th>990</th>\n",
       "      <td>Winter Prey (Lucas Davenport  #5)</td>\n",
       "      <td>4.500000</td>\n",
       "      <td>2</td>\n",
       "    </tr>\n",
       "    <tr>\n",
       "      <th>991</th>\n",
       "      <td>Death: The High Cost of Living</td>\n",
       "      <td>3.000000</td>\n",
       "      <td>2</td>\n",
       "    </tr>\n",
       "    <tr>\n",
       "      <th>992</th>\n",
       "      <td>The Iliad/The Odyssey</td>\n",
       "      <td>4.000000</td>\n",
       "      <td>2</td>\n",
       "    </tr>\n",
       "    <tr>\n",
       "      <th>993</th>\n",
       "      <td>First Things First</td>\n",
       "      <td>4.000000</td>\n",
       "      <td>2</td>\n",
       "    </tr>\n",
       "  </tbody>\n",
       "</table>\n",
       "<p>994 rows × 3 columns</p>\n",
       "</div>"
      ],
      "text/plain": [
       "                                                 title  avg_rating  n_review\n",
       "0                              Twilight (Twilight  #1)    3.662500      1120\n",
       "1                  The Hobbit  or There and Back Again    4.125000       528\n",
       "2                               The Catcher in the Rye    3.825581       516\n",
       "3    Harry Potter and the Prisoner of Azkaban (Harr...    4.414634       492\n",
       "4    Harry Potter and the Chamber of Secrets (Harry...    4.287500       480\n",
       "..                                                 ...         ...       ...\n",
       "989                      Debt of Honor (Jack Ryan  #7)    3.000000         2\n",
       "990                  Winter Prey (Lucas Davenport  #5)    4.500000         2\n",
       "991                     Death: The High Cost of Living    3.000000         2\n",
       "992                              The Iliad/The Odyssey    4.000000         2\n",
       "993                                 First Things First    4.000000         2\n",
       "\n",
       "[994 rows x 3 columns]"
      ]
     },
     "execution_count": 8,
     "metadata": {},
     "output_type": "execute_result"
    }
   ],
   "source": [
    "# Unir las tablas de libros, reseñas y calificaciones; determinar el promedio de clasificaciones y cantidas de reseñas\n",
    "pd.read_sql_query('''SELECT books.title AS title, \n",
    "                            AVG(ratings.rating) AS avg_rating,\n",
    "                            COUNT(reviews.text) AS n_review FROM reviews \n",
    "                                                            INNER JOIN books ON books.book_id = reviews.book_id\n",
    "                                                            INNER JOIN ratings ON ratings.book_id = reviews.book_id\n",
    "                                                            GROUP BY books.book_id, books.title\n",
    "                                                            ORDER BY COUNT(reviews.text) DESC;''', conn)"
   ]
  },
  {
   "cell_type": "markdown",
   "metadata": {},
   "source": [
    "### Editorial que ha publicado el mayor número de libros con más de 50 páginas (esto excluye folletos y publicaciones similares)."
   ]
  },
  {
   "cell_type": "code",
   "execution_count": 9,
   "metadata": {},
   "outputs": [
    {
     "data": {
      "text/html": [
       "<div>\n",
       "<style scoped>\n",
       "    .dataframe tbody tr th:only-of-type {\n",
       "        vertical-align: middle;\n",
       "    }\n",
       "\n",
       "    .dataframe tbody tr th {\n",
       "        vertical-align: top;\n",
       "    }\n",
       "\n",
       "    .dataframe thead th {\n",
       "        text-align: right;\n",
       "    }\n",
       "</style>\n",
       "<table border=\"1\" class=\"dataframe\">\n",
       "  <thead>\n",
       "    <tr style=\"text-align: right;\">\n",
       "      <th></th>\n",
       "      <th>publisher_id</th>\n",
       "      <th>publisher</th>\n",
       "      <th>n_titles</th>\n",
       "    </tr>\n",
       "  </thead>\n",
       "  <tbody>\n",
       "    <tr>\n",
       "      <th>0</th>\n",
       "      <td>212</td>\n",
       "      <td>Penguin Books</td>\n",
       "      <td>42</td>\n",
       "    </tr>\n",
       "  </tbody>\n",
       "</table>\n",
       "</div>"
      ],
      "text/plain": [
       "   publisher_id      publisher  n_titles\n",
       "0           212  Penguin Books        42"
      ]
     },
     "execution_count": 9,
     "metadata": {},
     "output_type": "execute_result"
    }
   ],
   "source": [
    "# Unir tablas de libros y editoriales; filtrando el número de libros publicados, contabilizando los titulos publicados y ordenandolos descendentemente\n",
    "pd.read_sql_query('''SELECT books.publisher_id,\n",
    "                            publishers.publisher,\n",
    "                            COUNT(books.title) AS n_titles FROM publishers \n",
    "                                                           INNER JOIN books ON books.publisher_id = publishers.publisher_id\n",
    "                                                           WHERE (books.num_pages>50) \n",
    "                                                           GROUP BY books.publisher_id, publishers.publisher\n",
    "                                                           ORDER BY COUNT(books.title) DESC\n",
    "                                                           LIMIT 1;''', conn)"
   ]
  },
  {
   "cell_type": "markdown",
   "metadata": {},
   "source": [
    "### Autor que tiene la más alta calificación promedio del libro: mira solo los libros con al menos 50 calificaciones.\n"
   ]
  },
  {
   "cell_type": "code",
   "execution_count": 10,
   "metadata": {},
   "outputs": [
    {
     "data": {
      "text/html": [
       "<div>\n",
       "<style scoped>\n",
       "    .dataframe tbody tr th:only-of-type {\n",
       "        vertical-align: middle;\n",
       "    }\n",
       "\n",
       "    .dataframe tbody tr th {\n",
       "        vertical-align: top;\n",
       "    }\n",
       "\n",
       "    .dataframe thead th {\n",
       "        text-align: right;\n",
       "    }\n",
       "</style>\n",
       "<table border=\"1\" class=\"dataframe\">\n",
       "  <thead>\n",
       "    <tr style=\"text-align: right;\">\n",
       "      <th></th>\n",
       "      <th>author</th>\n",
       "      <th>count_rating</th>\n",
       "      <th>avg_rating</th>\n",
       "      <th>title</th>\n",
       "    </tr>\n",
       "  </thead>\n",
       "  <tbody>\n",
       "    <tr>\n",
       "      <th>0</th>\n",
       "      <td>Stephenie Meyer</td>\n",
       "      <td>160</td>\n",
       "      <td>3.662500</td>\n",
       "      <td>Twilight (Twilight  #1)</td>\n",
       "    </tr>\n",
       "    <tr>\n",
       "      <th>1</th>\n",
       "      <td>J.R.R. Tolkien</td>\n",
       "      <td>88</td>\n",
       "      <td>4.125000</td>\n",
       "      <td>The Hobbit  or There and Back Again</td>\n",
       "    </tr>\n",
       "    <tr>\n",
       "      <th>2</th>\n",
       "      <td>J.D. Salinger</td>\n",
       "      <td>86</td>\n",
       "      <td>3.825581</td>\n",
       "      <td>The Catcher in the Rye</td>\n",
       "    </tr>\n",
       "    <tr>\n",
       "      <th>3</th>\n",
       "      <td>Dan Brown</td>\n",
       "      <td>84</td>\n",
       "      <td>3.678571</td>\n",
       "      <td>Angels &amp; Demons (Robert Langdon  #1)</td>\n",
       "    </tr>\n",
       "    <tr>\n",
       "      <th>4</th>\n",
       "      <td>J.K. Rowling/Mary GrandPré</td>\n",
       "      <td>82</td>\n",
       "      <td>4.414634</td>\n",
       "      <td>Harry Potter and the Prisoner of Azkaban (Harr...</td>\n",
       "    </tr>\n",
       "    <tr>\n",
       "      <th>5</th>\n",
       "      <td>J.K. Rowling/Mary GrandPré</td>\n",
       "      <td>80</td>\n",
       "      <td>4.287500</td>\n",
       "      <td>Harry Potter and the Chamber of Secrets (Harry...</td>\n",
       "    </tr>\n",
       "    <tr>\n",
       "      <th>6</th>\n",
       "      <td>J.K. Rowling/Mary GrandPré</td>\n",
       "      <td>75</td>\n",
       "      <td>4.186667</td>\n",
       "      <td>Harry Potter and the Order of the Phoenix (Har...</td>\n",
       "    </tr>\n",
       "    <tr>\n",
       "      <th>7</th>\n",
       "      <td>J.R.R. Tolkien</td>\n",
       "      <td>74</td>\n",
       "      <td>4.391892</td>\n",
       "      <td>The Fellowship of the Ring (The Lord of the Ri...</td>\n",
       "    </tr>\n",
       "    <tr>\n",
       "      <th>8</th>\n",
       "      <td>George Orwell/Boris Grabnar/Peter Škerl</td>\n",
       "      <td>74</td>\n",
       "      <td>3.729730</td>\n",
       "      <td>Animal Farm</td>\n",
       "    </tr>\n",
       "    <tr>\n",
       "      <th>9</th>\n",
       "      <td>J.K. Rowling/Mary GrandPré</td>\n",
       "      <td>73</td>\n",
       "      <td>4.246575</td>\n",
       "      <td>Harry Potter and the Half-Blood Prince (Harry ...</td>\n",
       "    </tr>\n",
       "    <tr>\n",
       "      <th>10</th>\n",
       "      <td>William Golding</td>\n",
       "      <td>71</td>\n",
       "      <td>3.901408</td>\n",
       "      <td>Lord of the Flies</td>\n",
       "    </tr>\n",
       "    <tr>\n",
       "      <th>11</th>\n",
       "      <td>William Shakespeare/Paul Werstine/Barbara A. M...</td>\n",
       "      <td>66</td>\n",
       "      <td>3.787879</td>\n",
       "      <td>Romeo and Juliet</td>\n",
       "    </tr>\n",
       "    <tr>\n",
       "      <th>12</th>\n",
       "      <td>Rick Riordan</td>\n",
       "      <td>62</td>\n",
       "      <td>4.080645</td>\n",
       "      <td>The Lightning Thief (Percy Jackson and the Oly...</td>\n",
       "    </tr>\n",
       "    <tr>\n",
       "      <th>13</th>\n",
       "      <td>John Steinbeck</td>\n",
       "      <td>61</td>\n",
       "      <td>3.622951</td>\n",
       "      <td>Of Mice and Men</td>\n",
       "    </tr>\n",
       "    <tr>\n",
       "      <th>14</th>\n",
       "      <td>Dan Brown</td>\n",
       "      <td>59</td>\n",
       "      <td>3.830508</td>\n",
       "      <td>The Da Vinci Code (Robert Langdon  #2)</td>\n",
       "    </tr>\n",
       "    <tr>\n",
       "      <th>15</th>\n",
       "      <td>Paulo Coelho/Alan R. Clarke/Özdemir İnce</td>\n",
       "      <td>57</td>\n",
       "      <td>3.789474</td>\n",
       "      <td>The Alchemist</td>\n",
       "    </tr>\n",
       "    <tr>\n",
       "      <th>16</th>\n",
       "      <td>Lois Lowry</td>\n",
       "      <td>56</td>\n",
       "      <td>3.750000</td>\n",
       "      <td>The Giver (The Giver  #1)</td>\n",
       "    </tr>\n",
       "    <tr>\n",
       "      <th>17</th>\n",
       "      <td>Arthur Golden</td>\n",
       "      <td>56</td>\n",
       "      <td>4.107143</td>\n",
       "      <td>Memoirs of a Geisha</td>\n",
       "    </tr>\n",
       "    <tr>\n",
       "      <th>18</th>\n",
       "      <td>Markus Zusak/Cao Xuân Việt Khương</td>\n",
       "      <td>53</td>\n",
       "      <td>4.264151</td>\n",
       "      <td>The Book Thief</td>\n",
       "    </tr>\n",
       "    <tr>\n",
       "      <th>19</th>\n",
       "      <td>Louisa May Alcott</td>\n",
       "      <td>52</td>\n",
       "      <td>4.192308</td>\n",
       "      <td>Little Women</td>\n",
       "    </tr>\n",
       "  </tbody>\n",
       "</table>\n",
       "</div>"
      ],
      "text/plain": [
       "                                               author  count_rating  \\\n",
       "0                                     Stephenie Meyer           160   \n",
       "1                                      J.R.R. Tolkien            88   \n",
       "2                                       J.D. Salinger            86   \n",
       "3                                           Dan Brown            84   \n",
       "4                          J.K. Rowling/Mary GrandPré            82   \n",
       "5                          J.K. Rowling/Mary GrandPré            80   \n",
       "6                          J.K. Rowling/Mary GrandPré            75   \n",
       "7                                      J.R.R. Tolkien            74   \n",
       "8             George Orwell/Boris Grabnar/Peter Škerl            74   \n",
       "9                          J.K. Rowling/Mary GrandPré            73   \n",
       "10                                    William Golding            71   \n",
       "11  William Shakespeare/Paul Werstine/Barbara A. M...            66   \n",
       "12                                       Rick Riordan            62   \n",
       "13                                     John Steinbeck            61   \n",
       "14                                          Dan Brown            59   \n",
       "15           Paulo Coelho/Alan R. Clarke/Özdemir İnce            57   \n",
       "16                                         Lois Lowry            56   \n",
       "17                                      Arthur Golden            56   \n",
       "18                  Markus Zusak/Cao Xuân Việt Khương            53   \n",
       "19                                  Louisa May Alcott            52   \n",
       "\n",
       "    avg_rating                                              title  \n",
       "0     3.662500                            Twilight (Twilight  #1)  \n",
       "1     4.125000                The Hobbit  or There and Back Again  \n",
       "2     3.825581                             The Catcher in the Rye  \n",
       "3     3.678571               Angels & Demons (Robert Langdon  #1)  \n",
       "4     4.414634  Harry Potter and the Prisoner of Azkaban (Harr...  \n",
       "5     4.287500  Harry Potter and the Chamber of Secrets (Harry...  \n",
       "6     4.186667  Harry Potter and the Order of the Phoenix (Har...  \n",
       "7     4.391892  The Fellowship of the Ring (The Lord of the Ri...  \n",
       "8     3.729730                                        Animal Farm  \n",
       "9     4.246575  Harry Potter and the Half-Blood Prince (Harry ...  \n",
       "10    3.901408                                  Lord of the Flies  \n",
       "11    3.787879                                   Romeo and Juliet  \n",
       "12    4.080645  The Lightning Thief (Percy Jackson and the Oly...  \n",
       "13    3.622951                                    Of Mice and Men  \n",
       "14    3.830508             The Da Vinci Code (Robert Langdon  #2)  \n",
       "15    3.789474                                      The Alchemist  \n",
       "16    3.750000                          The Giver (The Giver  #1)  \n",
       "17    4.107143                                Memoirs of a Geisha  \n",
       "18    4.264151                                     The Book Thief  \n",
       "19    4.192308                                       Little Women  "
      ]
     },
     "execution_count": 10,
     "metadata": {},
     "output_type": "execute_result"
    }
   ],
   "source": [
    "# Unir tablas libros, calificaciones y autores; filtrando los libros con más de 50 calificaciones, sacando el promedio de estas y ordenandolos de manera descente para encontrar el mejor ranqueado\n",
    "pd.read_sql_query('''SELECT authors.author,\n",
    "                            COUNT(rating) AS count_rating,\n",
    "                            AVG(rating) AS avg_rating,\n",
    "                            books.title FROM books \n",
    "                                        INNER JOIN ratings ON ratings.book_id = books.book_id\n",
    "                                        INNER JOIN authors ON authors.author_id = books.author_id\n",
    "                                        GROUP BY authors.author, books.title\n",
    "                                        HAVING COUNT(ratings.book_id)>=50\n",
    "                                        ORDER BY COUNT(ratings.rating) DESC''', conn)"
   ]
  },
  {
   "cell_type": "markdown",
   "metadata": {},
   "source": [
    "### Número promedio de reseñas de texto entre los usuarios que calificaron más de 50 libros."
   ]
  },
  {
   "cell_type": "code",
   "execution_count": 11,
   "metadata": {},
   "outputs": [
    {
     "data": {
      "text/html": [
       "<div>\n",
       "<style scoped>\n",
       "    .dataframe tbody tr th:only-of-type {\n",
       "        vertical-align: middle;\n",
       "    }\n",
       "\n",
       "    .dataframe tbody tr th {\n",
       "        vertical-align: top;\n",
       "    }\n",
       "\n",
       "    .dataframe thead th {\n",
       "        text-align: right;\n",
       "    }\n",
       "</style>\n",
       "<table border=\"1\" class=\"dataframe\">\n",
       "  <thead>\n",
       "    <tr style=\"text-align: right;\">\n",
       "      <th></th>\n",
       "      <th>avg_review_text</th>\n",
       "    </tr>\n",
       "  </thead>\n",
       "  <tbody>\n",
       "    <tr>\n",
       "      <th>0</th>\n",
       "      <td>24.333333</td>\n",
       "    </tr>\n",
       "  </tbody>\n",
       "</table>\n",
       "</div>"
      ],
      "text/plain": [
       "   avg_review_text\n",
       "0        24.333333"
      ]
     },
     "execution_count": 11,
     "metadata": {},
     "output_type": "execute_result"
    }
   ],
   "source": [
    "# Se realiza una recopilación de valores mayores de 50 calificaciones, para determinar los usuarios y hacer la contabilización de sus reseñas; finalmente se envuelve en una subcolsulta de promedia cantidad de estas\n",
    "pd.read_sql_query('''SELECT AVG(n_text) AS avg_review_text FROM (\n",
    "                                                                  SELECT username, COUNT(text) AS n_text FROM reviews \n",
    "                                                                                                         WHERE username IN (SELECT username FROM ratings \n",
    "                                                                                                                            GROUP BY username\n",
    "                                                                                                                            HAVING COUNT(rating) > 50)\n",
    "                                                                                                                        GROUP BY username) AS SUB''', conn)"
   ]
  },
  {
   "cell_type": "code",
   "execution_count": 12,
   "metadata": {},
   "outputs": [
    {
     "data": {
      "text/html": [
       "<div>\n",
       "<style scoped>\n",
       "    .dataframe tbody tr th:only-of-type {\n",
       "        vertical-align: middle;\n",
       "    }\n",
       "\n",
       "    .dataframe tbody tr th {\n",
       "        vertical-align: top;\n",
       "    }\n",
       "\n",
       "    .dataframe thead th {\n",
       "        text-align: right;\n",
       "    }\n",
       "</style>\n",
       "<table border=\"1\" class=\"dataframe\">\n",
       "  <thead>\n",
       "    <tr style=\"text-align: right;\">\n",
       "      <th></th>\n",
       "      <th>username</th>\n",
       "      <th>n_text</th>\n",
       "    </tr>\n",
       "  </thead>\n",
       "  <tbody>\n",
       "    <tr>\n",
       "      <th>0</th>\n",
       "      <td>sfitzgerald</td>\n",
       "      <td>28</td>\n",
       "    </tr>\n",
       "    <tr>\n",
       "      <th>1</th>\n",
       "      <td>jennifermiller</td>\n",
       "      <td>25</td>\n",
       "    </tr>\n",
       "    <tr>\n",
       "      <th>2</th>\n",
       "      <td>xdavis</td>\n",
       "      <td>18</td>\n",
       "    </tr>\n",
       "    <tr>\n",
       "      <th>3</th>\n",
       "      <td>paul88</td>\n",
       "      <td>22</td>\n",
       "    </tr>\n",
       "    <tr>\n",
       "      <th>4</th>\n",
       "      <td>martinadam</td>\n",
       "      <td>27</td>\n",
       "    </tr>\n",
       "    <tr>\n",
       "      <th>5</th>\n",
       "      <td>richard89</td>\n",
       "      <td>26</td>\n",
       "    </tr>\n",
       "  </tbody>\n",
       "</table>\n",
       "</div>"
      ],
      "text/plain": [
       "         username  n_text\n",
       "0     sfitzgerald      28\n",
       "1  jennifermiller      25\n",
       "2          xdavis      18\n",
       "3          paul88      22\n",
       "4      martinadam      27\n",
       "5       richard89      26"
      ]
     },
     "execution_count": 12,
     "metadata": {},
     "output_type": "execute_result"
    }
   ],
   "source": [
    "pd.read_sql_query('''SELECT username, COUNT(text) AS n_text FROM reviews \n",
    "                                                            WHERE username IN (SELECT username FROM ratings \n",
    "                                                                                               GROUP BY username\n",
    "                                                                                               HAVING COUNT(rating) > 50)\n",
    "                                                                                GROUP BY username''', conn)"
   ]
  },
  {
   "cell_type": "code",
   "execution_count": 13,
   "metadata": {},
   "outputs": [
    {
     "data": {
      "text/html": [
       "<div>\n",
       "<style scoped>\n",
       "    .dataframe tbody tr th:only-of-type {\n",
       "        vertical-align: middle;\n",
       "    }\n",
       "\n",
       "    .dataframe tbody tr th {\n",
       "        vertical-align: top;\n",
       "    }\n",
       "\n",
       "    .dataframe thead th {\n",
       "        text-align: right;\n",
       "    }\n",
       "</style>\n",
       "<table border=\"1\" class=\"dataframe\">\n",
       "  <thead>\n",
       "    <tr style=\"text-align: right;\">\n",
       "      <th></th>\n",
       "      <th>author</th>\n",
       "      <th>publisher_id</th>\n",
       "      <th>avg_rating</th>\n",
       "      <th>title</th>\n",
       "    </tr>\n",
       "  </thead>\n",
       "  <tbody>\n",
       "    <tr>\n",
       "      <th>0</th>\n",
       "      <td>Stephenie Meyer</td>\n",
       "      <td>176</td>\n",
       "      <td>3.6625</td>\n",
       "      <td>Twilight (Twilight  #1)</td>\n",
       "    </tr>\n",
       "  </tbody>\n",
       "</table>\n",
       "</div>"
      ],
      "text/plain": [
       "            author  publisher_id  avg_rating                    title\n",
       "0  Stephenie Meyer           176      3.6625  Twilight (Twilight  #1)"
      ]
     },
     "execution_count": 13,
     "metadata": {},
     "output_type": "execute_result"
    }
   ],
   "source": [
    "# Unir tablas libros, calificaciones y autores; filtrando los libros con más de 50 calificaciones, sacando el promedio de estas y ordenandolos de manera descente para encontrar el mejor ranqueado\n",
    "pd.read_sql_query('''SELECT authors.author,\n",
    "                            books.publisher_id,\n",
    "                            AVG(rating) AS avg_rating,\n",
    "                            books.title FROM books \n",
    "                                        INNER JOIN ratings ON ratings.book_id = books.book_id\n",
    "                                        INNER JOIN authors ON authors.author_id = books.author_id\n",
    "                                        GROUP BY authors.author, books.title, books.publisher_id\n",
    "                                        HAVING COUNT(ratings.book_id)>50\n",
    "                                        ORDER BY COUNT(ratings.rating) DESC\n",
    "                                        LIMIT 1''', conn)"
   ]
  },
  {
   "cell_type": "markdown",
   "metadata": {},
   "source": [
    "## Conclusiones"
   ]
  },
  {
   "cell_type": "markdown",
   "metadata": {},
   "source": [
    "- 819 se han publicado despues del 01 de Enero del 2000, aumentando un 78% de las publicaciones previas a la fecha \n",
    "- Número de reseñas por libro tiene un rango de 1120 a 2, sin embargo las calificaciónes no estan directamente ligadas al numero de reseñas, teniendo una escala de 1 a 5.\n",
    "- Penguin Books es la editorial que ha publicado 42 libros con más de 50 páginas, teniendo la mayor cantidad de publicaciones.\n",
    "- La autora Stephenie Meyer tiene el mejor promedio de calificación de 3.6625 con 160 calificaciones, para el libro Twilight (Twilight #1) con 1120 reseñas, teniendo un 53% más de reseñas con respecto al 'The Hobbit or There and Back Again' que tiene mejor calificación (4.12). Sin embargo, la autora J.K. Rowling/Mary GrandPré\tcon el libro de Harry Potter and the Prisoner of Azkaban con la mejor calificación de 4.4146, con otros 3 libros en el ranking manteniendo una calificación pronedio de 4.28, teniendo la mejor calificación de los autores.\n",
    "- El número promedio de reseñas de texto entre los usuarios que calificaron más de 50 libros es de 24.3, en un rango de 28 a 18 reseñas."
   ]
  }
 ],
 "metadata": {
  "ExecuteTimeLog": [
   {
    "duration": 3213,
    "start_time": "2024-07-02T02:27:19.828Z"
   },
   {
    "duration": 417,
    "start_time": "2024-07-02T02:28:12.354Z"
   },
   {
    "duration": 669,
    "start_time": "2024-07-02T02:28:24.355Z"
   },
   {
    "duration": 207,
    "start_time": "2024-07-02T02:28:39.950Z"
   },
   {
    "duration": 205,
    "start_time": "2024-07-02T02:28:52.872Z"
   },
   {
    "duration": 208,
    "start_time": "2024-07-02T02:29:03.323Z"
   },
   {
    "duration": 207,
    "start_time": "2024-07-02T02:29:49.157Z"
   },
   {
    "duration": 13826,
    "start_time": "2024-07-02T02:30:02.585Z"
   },
   {
    "duration": 4,
    "start_time": "2024-07-02T02:30:31.130Z"
   },
   {
    "duration": 1019,
    "start_time": "2024-07-02T02:30:48.596Z"
   },
   {
    "duration": 214,
    "start_time": "2024-07-02T02:31:23.745Z"
   },
   {
    "duration": 609,
    "start_time": "2024-07-02T02:31:53.483Z"
   },
   {
    "duration": 210,
    "start_time": "2024-07-02T02:32:12.223Z"
   },
   {
    "duration": 212,
    "start_time": "2024-07-02T02:32:27.909Z"
   },
   {
    "duration": 1367,
    "start_time": "2024-07-02T02:33:23.117Z"
   },
   {
    "duration": 267,
    "start_time": "2024-07-02T02:33:24.487Z"
   },
   {
    "duration": 134,
    "start_time": "2024-07-02T02:33:24.757Z"
   },
   {
    "duration": 135,
    "start_time": "2024-07-02T02:33:24.895Z"
   },
   {
    "duration": 135,
    "start_time": "2024-07-02T02:33:25.033Z"
   },
   {
    "duration": 136,
    "start_time": "2024-07-02T02:33:25.171Z"
   },
   {
    "duration": 133,
    "start_time": "2024-07-02T02:33:25.310Z"
   },
   {
    "duration": 401,
    "start_time": "2024-07-02T02:33:25.445Z"
   },
   {
    "duration": 136,
    "start_time": "2024-07-02T02:33:25.848Z"
   },
   {
    "duration": 139,
    "start_time": "2024-07-02T02:33:25.988Z"
   },
   {
    "duration": 135,
    "start_time": "2024-07-02T02:33:26.130Z"
   },
   {
    "duration": 135,
    "start_time": "2024-07-02T02:33:26.268Z"
   },
   {
    "duration": 141,
    "start_time": "2024-07-02T02:33:26.407Z"
   },
   {
    "duration": 310,
    "start_time": "2024-07-03T03:34:33.627Z"
   },
   {
    "duration": 1378,
    "start_time": "2024-07-03T03:34:40.693Z"
   },
   {
    "duration": 283,
    "start_time": "2024-07-03T03:34:42.074Z"
   },
   {
    "duration": 135,
    "start_time": "2024-07-03T03:34:42.359Z"
   },
   {
    "duration": 136,
    "start_time": "2024-07-03T03:34:42.498Z"
   },
   {
    "duration": 138,
    "start_time": "2024-07-03T03:34:42.637Z"
   },
   {
    "duration": 137,
    "start_time": "2024-07-03T03:34:42.778Z"
   },
   {
    "duration": 134,
    "start_time": "2024-07-03T03:34:42.918Z"
   },
   {
    "duration": 403,
    "start_time": "2024-07-03T03:34:43.054Z"
   },
   {
    "duration": 136,
    "start_time": "2024-07-03T03:34:43.460Z"
   },
   {
    "duration": 144,
    "start_time": "2024-07-03T03:34:43.601Z"
   },
   {
    "duration": 138,
    "start_time": "2024-07-03T03:34:43.748Z"
   },
   {
    "duration": 137,
    "start_time": "2024-07-03T03:34:43.889Z"
   },
   {
    "duration": 142,
    "start_time": "2024-07-03T03:34:44.031Z"
   },
   {
    "duration": 143,
    "start_time": "2024-07-03T03:38:56.267Z"
   },
   {
    "duration": 828,
    "start_time": "2024-07-03T03:39:08.370Z"
   },
   {
    "duration": 440,
    "start_time": "2024-07-03T03:39:20.253Z"
   },
   {
    "duration": 270,
    "start_time": "2024-07-03T03:39:26.996Z"
   },
   {
    "duration": 143,
    "start_time": "2024-07-03T03:39:58.810Z"
   },
   {
    "duration": 144,
    "start_time": "2024-07-03T03:46:19.471Z"
   },
   {
    "duration": 145,
    "start_time": "2024-07-03T03:46:28.509Z"
   },
   {
    "duration": 305,
    "start_time": "2024-07-04T18:16:30.392Z"
   },
   {
    "duration": 1526,
    "start_time": "2024-07-04T18:16:44.109Z"
   },
   {
    "duration": 288,
    "start_time": "2024-07-04T18:16:45.639Z"
   },
   {
    "duration": 142,
    "start_time": "2024-07-04T18:16:45.930Z"
   },
   {
    "duration": 142,
    "start_time": "2024-07-04T18:16:46.075Z"
   },
   {
    "duration": 144,
    "start_time": "2024-07-04T18:16:46.224Z"
   },
   {
    "duration": 143,
    "start_time": "2024-07-04T18:16:46.371Z"
   },
   {
    "duration": 142,
    "start_time": "2024-07-04T18:16:46.517Z"
   },
   {
    "duration": 425,
    "start_time": "2024-07-04T18:16:46.662Z"
   },
   {
    "duration": 144,
    "start_time": "2024-07-04T18:16:47.091Z"
   },
   {
    "duration": 156,
    "start_time": "2024-07-04T18:16:47.237Z"
   },
   {
    "duration": 143,
    "start_time": "2024-07-04T18:16:47.396Z"
   },
   {
    "duration": 145,
    "start_time": "2024-07-04T18:16:47.542Z"
   },
   {
    "duration": 149,
    "start_time": "2024-07-04T18:16:47.690Z"
   },
   {
    "duration": 152,
    "start_time": "2024-07-04T18:26:47.882Z"
   },
   {
    "duration": 153,
    "start_time": "2024-07-04T18:26:54.345Z"
   },
   {
    "duration": 1127,
    "start_time": "2024-08-29T04:50:54.627Z"
   },
   {
    "duration": 256,
    "start_time": "2024-08-29T04:50:55.756Z"
   },
   {
    "duration": 127,
    "start_time": "2024-08-29T04:50:56.013Z"
   },
   {
    "duration": 127,
    "start_time": "2024-08-29T04:50:56.142Z"
   },
   {
    "duration": 127,
    "start_time": "2024-08-29T04:50:56.270Z"
   },
   {
    "duration": 127,
    "start_time": "2024-08-29T04:50:56.399Z"
   },
   {
    "duration": 126,
    "start_time": "2024-08-29T04:50:56.528Z"
   },
   {
    "duration": 384,
    "start_time": "2024-08-29T04:50:56.655Z"
   },
   {
    "duration": 127,
    "start_time": "2024-08-29T04:50:57.040Z"
   },
   {
    "duration": 133,
    "start_time": "2024-08-29T04:50:57.170Z"
   },
   {
    "duration": 128,
    "start_time": "2024-08-29T04:50:57.305Z"
   },
   {
    "duration": 128,
    "start_time": "2024-08-29T04:50:57.435Z"
   },
   {
    "duration": 132,
    "start_time": "2024-08-29T04:50:57.564Z"
   }
  ],
  "kernelspec": {
   "display_name": "Python 3 (ipykernel)",
   "language": "python",
   "name": "python3"
  },
  "language_info": {
   "codemirror_mode": {
    "name": "ipython",
    "version": 3
   },
   "file_extension": ".py",
   "mimetype": "text/x-python",
   "name": "python",
   "nbconvert_exporter": "python",
   "pygments_lexer": "ipython3",
   "version": "3.12.1"
  },
  "toc": {
   "base_numbering": 1,
   "nav_menu": {},
   "number_sections": true,
   "sideBar": true,
   "skip_h1_title": true,
   "title_cell": "Table of Contents",
   "title_sidebar": "Contents",
   "toc_cell": true,
   "toc_position": {
    "height": "calc(100% - 180px)",
    "left": "10px",
    "top": "150px",
    "width": "296.438px"
   },
   "toc_section_display": true,
   "toc_window_display": true
  }
 },
 "nbformat": 4,
 "nbformat_minor": 2
}
